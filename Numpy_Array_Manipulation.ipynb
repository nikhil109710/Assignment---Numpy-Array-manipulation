{
  "nbformat": 4,
  "nbformat_minor": 0,
  "metadata": {
    "colab": {
      "provenance": []
    },
    "kernelspec": {
      "name": "python3",
      "display_name": "Python 3"
    },
    "language_info": {
      "name": "python"
    }
  },
  "cells": [
    {
      "cell_type": "code",
      "execution_count": 1,
      "metadata": {
        "id": "O1zrcTAPjoja"
      },
      "outputs": [],
      "source": [
        "import numpy as np\n"
      ]
    },
    {
      "cell_type": "code",
      "source": [
        "def flatten_array(arr):\n",
        "    # Use the flatten() function to convert the array to a 1D array\n",
        "    flattened_array = arr.flatten()\n",
        "    return flattened_array\n"
      ],
      "metadata": {
        "id": "v7Xj2_0ujv6P"
      },
      "execution_count": 2,
      "outputs": []
    },
    {
      "cell_type": "code",
      "source": [
        "def flatten_first_half(arr):\n",
        "    # Slice the array to consider only the first half of each row\n",
        "    sliced_array = arr[:, :arr.shape[1] // 2]\n",
        "    # Use the flatten() function to convert the sliced array to a 1D array\n",
        "    flattened_array = sliced_array.flatten()\n",
        "    return flattened_array\n"
      ],
      "metadata": {
        "id": "jD9lx-Wfj0lt"
      },
      "execution_count": 11,
      "outputs": []
    },
    {
      "cell_type": "code",
      "source": [
        "def insert_value(arr, index, value):\n",
        "    # Check if the value to be inserted is a scalar or an array\n",
        "    if np.isscalar(value):\n",
        "        # Use the insert() function to insert the scalar value at the specified index\n",
        "        new_array = np.insert(arr, index, value)\n",
        "    else:\n",
        "        # Use the insert() function along with the axis parameter to insert the array\n",
        "        new_array = np.insert(arr, index, value, axis=0)\n",
        "    return new_array\n"
      ],
      "metadata": {
        "id": "7-CULPbMj7sr"
      },
      "execution_count": 10,
      "outputs": []
    },
    {
      "cell_type": "code",
      "source": [
        "def insert_at_alternate_indices(arr, values):\n",
        "    # Create an array of indices for insertion at alternate positions\n",
        "    indices = np.arange(1, arr.size * 2, 2)\n",
        "    # Use the insert() function to insert the values at the specified indices\n",
        "    new_array = np.insert(arr, indices, values)\n",
        "    return new_array\n"
      ],
      "metadata": {
        "id": "7t8cjMk6j9m6"
      },
      "execution_count": 9,
      "outputs": []
    },
    {
      "cell_type": "code",
      "source": [
        "def append_arrays(arr1, arr2):\n",
        "    # Use the append() function to combine the arrays\n",
        "    combined_array = np.append(arr1, arr2)\n",
        "    return combined_array\n"
      ],
      "metadata": {
        "id": "gAIgtElAkCly"
      },
      "execution_count": 7,
      "outputs": []
    },
    {
      "cell_type": "code",
      "source": [
        "def append_row(arr2d, arr1d):\n",
        "    # Use the vstack() function to stack the 1D array below the 2D array\n",
        "    new_array = np.vstack((arr2d, arr1d))\n",
        "    return new_array\n"
      ],
      "metadata": {
        "id": "pv-R-LfbkIn-"
      },
      "execution_count": 12,
      "outputs": []
    },
    {
      "cell_type": "code",
      "source": [
        "def remove_element(arr, index, axis=0):\n",
        "    # Check the axis parameter to determine row or column deletion\n",
        "    if axis == 0:\n",
        "        # Use the delete() function to remove the element at the specified index\n",
        "        new_array = np.delete(arr, index)\n",
        "    else:\n",
        "        # Use the delete() function along with the axis parameter to remove a row\n",
        "        new_array = np.delete(arr, index, axis=0)\n",
        "    return new_array\n"
      ],
      "metadata": {
        "id": "17Ic3crCkTK6"
      },
      "execution_count": 13,
      "outputs": []
    },
    {
      "cell_type": "code",
      "source": [
        "def remove_rows(arr, row_indices):\n",
        "    # Use the delete() function along with the axis parameter to remove the specified rows\n",
        "    new_array = np.delete(arr, row_indices, axis=0)\n",
        "    return new_array\n"
      ],
      "metadata": {
        "id": "Jeaj60CBkYcG"
      },
      "execution_count": 14,
      "outputs": []
    },
    {
      "cell_type": "code",
      "source": [
        "def unique_sorted(arr):\n",
        "    # Use the unique() function to extract unique elements from the array\n",
        "    unique_elements = np.unique(arr)\n",
        "    # Use the sort() function to sort the unique elements in ascending order\n",
        "    sorted_elements = np.sort(unique_elements)\n",
        "    return sorted_elements\n"
      ],
      "metadata": {
        "id": "j8qvrLtqkc42"
      },
      "execution_count": 15,
      "outputs": []
    },
    {
      "cell_type": "code",
      "source": [
        "def unique_rows(arr):\n",
        "    # Use the unique() function along with the axis parameter to extract unique rows\n",
        "    unique_rows = np.unique(arr, axis=0)\n",
        "    return unique_rows\n"
      ],
      "metadata": {
        "id": "Kspinpx1kgmX"
      },
      "execution_count": 16,
      "outputs": []
    }
  ]
}